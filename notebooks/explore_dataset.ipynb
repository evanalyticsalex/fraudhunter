{
 "cells": [
  {
   "cell_type": "code",
   "execution_count": 3,
   "id": "ae8c8131",
   "metadata": {},
   "outputs": [],
   "source": [
    "import pandas as pd\n",
    "\n",
    "df = pd.read_csv('../data/ecommerce.csv')  # Adjust path if needed\n"
   ]
  },
  {
   "cell_type": "code",
   "execution_count": 4,
   "id": "4442dab6",
   "metadata": {},
   "outputs": [
    {
     "name": "stdout",
     "output_type": "stream",
     "text": [
      "(5000, 13)\n"
     ]
    },
    {
     "data": {
      "text/plain": [
       "['customer_id',\n",
       " 'age',\n",
       " 'gender',\n",
       " 'country',\n",
       " 'avg_order_value',\n",
       " 'total_orders',\n",
       " 'last_purchase',\n",
       " 'is_fraudulent',\n",
       " 'preferred_category',\n",
       " 'email_open_rate',\n",
       " 'customer_since',\n",
       " 'loyalty_score',\n",
       " 'churn_risk']"
      ]
     },
     "execution_count": 4,
     "metadata": {},
     "output_type": "execute_result"
    }
   ],
   "source": [
    "print(df.shape)      # rows and columns\n",
    "df.head()            # first 5 rows\n",
    "df.columns.tolist()  # column names\n"
   ]
  },
  {
   "cell_type": "code",
   "execution_count": 5,
   "id": "1c0faac1",
   "metadata": {
    "vscode": {
     "languageId": "markdown"
    }
   },
   "outputs": [
    {
     "data": {
      "text/plain": [
       "customer_id            object\n",
       "age                     int64\n",
       "gender                 object\n",
       "country                object\n",
       "avg_order_value       float64\n",
       "total_orders            int64\n",
       "last_purchase           int64\n",
       "is_fraudulent           int64\n",
       "preferred_category     object\n",
       "email_open_rate       float64\n",
       "customer_since         object\n",
       "loyalty_score           int64\n",
       "churn_risk            float64\n",
       "dtype: object"
      ]
     },
     "execution_count": 5,
     "metadata": {},
     "output_type": "execute_result"
    }
   ],
   "source": [
    "df.dtypes"
   ]
  },
  {
   "cell_type": "markdown",
   "id": "88c587b9",
   "metadata": {},
   "source": [
    "Counting the missing values per columns. Avg_order_value is missing 250 and email_open_rate as well\n",
    "and you can notice below where is df.info() these columns are having 4750 of 5000"
   ]
  },
  {
   "cell_type": "code",
   "execution_count": 7,
   "id": "63049756",
   "metadata": {
    "vscode": {
     "languageId": "markdown"
    }
   },
   "outputs": [
    {
     "data": {
      "text/plain": [
       "customer_id             0\n",
       "age                     0\n",
       "gender                  0\n",
       "country                 0\n",
       "avg_order_value       250\n",
       "total_orders            0\n",
       "last_purchase           0\n",
       "is_fraudulent           0\n",
       "preferred_category      0\n",
       "email_open_rate       250\n",
       "customer_since          0\n",
       "loyalty_score           0\n",
       "churn_risk              0\n",
       "dtype: int64"
      ]
     },
     "execution_count": 7,
     "metadata": {},
     "output_type": "execute_result"
    }
   ],
   "source": [
    "df.isnull().sum()\n"
   ]
  },
  {
   "cell_type": "code",
   "execution_count": 8,
   "id": "a17b0131",
   "metadata": {
    "vscode": {
     "languageId": "markdown"
    }
   },
   "outputs": [
    {
     "name": "stdout",
     "output_type": "stream",
     "text": [
      "<class 'pandas.core.frame.DataFrame'>\n",
      "RangeIndex: 5000 entries, 0 to 4999\n",
      "Data columns (total 13 columns):\n",
      " #   Column              Non-Null Count  Dtype  \n",
      "---  ------              --------------  -----  \n",
      " 0   customer_id         5000 non-null   object \n",
      " 1   age                 5000 non-null   int64  \n",
      " 2   gender              5000 non-null   object \n",
      " 3   country             5000 non-null   object \n",
      " 4   avg_order_value     4750 non-null   float64\n",
      " 5   total_orders        5000 non-null   int64  \n",
      " 6   last_purchase       5000 non-null   int64  \n",
      " 7   is_fraudulent       5000 non-null   int64  \n",
      " 8   preferred_category  5000 non-null   object \n",
      " 9   email_open_rate     4750 non-null   float64\n",
      " 10  customer_since      5000 non-null   object \n",
      " 11  loyalty_score       5000 non-null   int64  \n",
      " 12  churn_risk          5000 non-null   float64\n",
      "dtypes: float64(3), int64(5), object(5)\n",
      "memory usage: 507.9+ KB\n"
     ]
    }
   ],
   "source": [
    "df.info()"
   ]
  },
  {
   "cell_type": "markdown",
   "id": "11890981",
   "metadata": {},
   "source": [
    "Summary Statistics \n"
   ]
  },
  {
   "cell_type": "code",
   "execution_count": 9,
   "id": "ab8dc904",
   "metadata": {
    "vscode": {
     "languageId": "markdown"
    }
   },
   "outputs": [
    {
     "data": {
      "text/html": [
       "<div>\n",
       "<style scoped>\n",
       "    .dataframe tbody tr th:only-of-type {\n",
       "        vertical-align: middle;\n",
       "    }\n",
       "\n",
       "    .dataframe tbody tr th {\n",
       "        vertical-align: top;\n",
       "    }\n",
       "\n",
       "    .dataframe thead th {\n",
       "        text-align: right;\n",
       "    }\n",
       "</style>\n",
       "<table border=\"1\" class=\"dataframe\">\n",
       "  <thead>\n",
       "    <tr style=\"text-align: right;\">\n",
       "      <th></th>\n",
       "      <th>age</th>\n",
       "      <th>avg_order_value</th>\n",
       "      <th>total_orders</th>\n",
       "      <th>last_purchase</th>\n",
       "      <th>is_fraudulent</th>\n",
       "      <th>email_open_rate</th>\n",
       "      <th>loyalty_score</th>\n",
       "      <th>churn_risk</th>\n",
       "    </tr>\n",
       "  </thead>\n",
       "  <tbody>\n",
       "    <tr>\n",
       "      <th>count</th>\n",
       "      <td>5000.000000</td>\n",
       "      <td>4750.000000</td>\n",
       "      <td>5000.000000</td>\n",
       "      <td>5000.000000</td>\n",
       "      <td>5000.000000</td>\n",
       "      <td>4750.000000</td>\n",
       "      <td>5000.000000</td>\n",
       "      <td>5000.000000</td>\n",
       "    </tr>\n",
       "    <tr>\n",
       "      <th>mean</th>\n",
       "      <td>48.163200</td>\n",
       "      <td>108.442857</td>\n",
       "      <td>10.027000</td>\n",
       "      <td>180.073200</td>\n",
       "      <td>0.025800</td>\n",
       "      <td>50.714842</td>\n",
       "      <td>50.039400</td>\n",
       "      <td>0.284484</td>\n",
       "    </tr>\n",
       "    <tr>\n",
       "      <th>std</th>\n",
       "      <td>17.880797</td>\n",
       "      <td>69.265559</td>\n",
       "      <td>3.163838</td>\n",
       "      <td>104.926518</td>\n",
       "      <td>0.158554</td>\n",
       "      <td>29.098706</td>\n",
       "      <td>28.832151</td>\n",
       "      <td>0.159690</td>\n",
       "    </tr>\n",
       "    <tr>\n",
       "      <th>min</th>\n",
       "      <td>18.000000</td>\n",
       "      <td>10.660000</td>\n",
       "      <td>0.000000</td>\n",
       "      <td>0.000000</td>\n",
       "      <td>0.000000</td>\n",
       "      <td>0.000000</td>\n",
       "      <td>1.000000</td>\n",
       "      <td>0.000000</td>\n",
       "    </tr>\n",
       "    <tr>\n",
       "      <th>25%</th>\n",
       "      <td>33.000000</td>\n",
       "      <td>57.805000</td>\n",
       "      <td>8.000000</td>\n",
       "      <td>89.000000</td>\n",
       "      <td>0.000000</td>\n",
       "      <td>25.225000</td>\n",
       "      <td>25.000000</td>\n",
       "      <td>0.160000</td>\n",
       "    </tr>\n",
       "    <tr>\n",
       "      <th>50%</th>\n",
       "      <td>48.000000</td>\n",
       "      <td>93.190000</td>\n",
       "      <td>10.000000</td>\n",
       "      <td>178.000000</td>\n",
       "      <td>0.000000</td>\n",
       "      <td>50.950000</td>\n",
       "      <td>50.000000</td>\n",
       "      <td>0.260000</td>\n",
       "    </tr>\n",
       "    <tr>\n",
       "      <th>75%</th>\n",
       "      <td>64.000000</td>\n",
       "      <td>142.197500</td>\n",
       "      <td>12.000000</td>\n",
       "      <td>270.000000</td>\n",
       "      <td>0.000000</td>\n",
       "      <td>76.800000</td>\n",
       "      <td>75.000000</td>\n",
       "      <td>0.390000</td>\n",
       "    </tr>\n",
       "    <tr>\n",
       "      <th>max</th>\n",
       "      <td>79.000000</td>\n",
       "      <td>555.460000</td>\n",
       "      <td>23.000000</td>\n",
       "      <td>364.000000</td>\n",
       "      <td>1.000000</td>\n",
       "      <td>100.000000</td>\n",
       "      <td>99.000000</td>\n",
       "      <td>0.900000</td>\n",
       "    </tr>\n",
       "  </tbody>\n",
       "</table>\n",
       "</div>"
      ],
      "text/plain": [
       "               age  avg_order_value  total_orders  last_purchase  \\\n",
       "count  5000.000000      4750.000000   5000.000000    5000.000000   \n",
       "mean     48.163200       108.442857     10.027000     180.073200   \n",
       "std      17.880797        69.265559      3.163838     104.926518   \n",
       "min      18.000000        10.660000      0.000000       0.000000   \n",
       "25%      33.000000        57.805000      8.000000      89.000000   \n",
       "50%      48.000000        93.190000     10.000000     178.000000   \n",
       "75%      64.000000       142.197500     12.000000     270.000000   \n",
       "max      79.000000       555.460000     23.000000     364.000000   \n",
       "\n",
       "       is_fraudulent  email_open_rate  loyalty_score   churn_risk  \n",
       "count    5000.000000      4750.000000    5000.000000  5000.000000  \n",
       "mean        0.025800        50.714842      50.039400     0.284484  \n",
       "std         0.158554        29.098706      28.832151     0.159690  \n",
       "min         0.000000         0.000000       1.000000     0.000000  \n",
       "25%         0.000000        25.225000      25.000000     0.160000  \n",
       "50%         0.000000        50.950000      50.000000     0.260000  \n",
       "75%         0.000000        76.800000      75.000000     0.390000  \n",
       "max         1.000000       100.000000      99.000000     0.900000  "
      ]
     },
     "execution_count": 9,
     "metadata": {},
     "output_type": "execute_result"
    }
   ],
   "source": [
    "df.describe()\n"
   ]
  },
  {
   "cell_type": "code",
   "execution_count": 10,
   "id": "2c582d82",
   "metadata": {
    "vscode": {
     "languageId": "markdown"
    }
   },
   "outputs": [
    {
     "data": {
      "text/html": [
       "<div>\n",
       "<style scoped>\n",
       "    .dataframe tbody tr th:only-of-type {\n",
       "        vertical-align: middle;\n",
       "    }\n",
       "\n",
       "    .dataframe tbody tr th {\n",
       "        vertical-align: top;\n",
       "    }\n",
       "\n",
       "    .dataframe thead th {\n",
       "        text-align: right;\n",
       "    }\n",
       "</style>\n",
       "<table border=\"1\" class=\"dataframe\">\n",
       "  <thead>\n",
       "    <tr style=\"text-align: right;\">\n",
       "      <th></th>\n",
       "      <th>customer_id</th>\n",
       "      <th>age</th>\n",
       "      <th>gender</th>\n",
       "      <th>country</th>\n",
       "      <th>avg_order_value</th>\n",
       "      <th>total_orders</th>\n",
       "      <th>last_purchase</th>\n",
       "      <th>is_fraudulent</th>\n",
       "      <th>preferred_category</th>\n",
       "      <th>email_open_rate</th>\n",
       "      <th>customer_since</th>\n",
       "      <th>loyalty_score</th>\n",
       "      <th>churn_risk</th>\n",
       "    </tr>\n",
       "  </thead>\n",
       "  <tbody>\n",
       "    <tr>\n",
       "      <th>0</th>\n",
       "      <td>CUST_8270</td>\n",
       "      <td>30</td>\n",
       "      <td>Female</td>\n",
       "      <td>Brazil</td>\n",
       "      <td>101.08</td>\n",
       "      <td>8</td>\n",
       "      <td>176</td>\n",
       "      <td>1</td>\n",
       "      <td>Beauty</td>\n",
       "      <td>25.6</td>\n",
       "      <td>2024-06-05</td>\n",
       "      <td>50</td>\n",
       "      <td>0.20</td>\n",
       "    </tr>\n",
       "    <tr>\n",
       "      <th>1</th>\n",
       "      <td>CUST_1860</td>\n",
       "      <td>53</td>\n",
       "      <td>Female</td>\n",
       "      <td>USA</td>\n",
       "      <td>90.39</td>\n",
       "      <td>10</td>\n",
       "      <td>88</td>\n",
       "      <td>0</td>\n",
       "      <td>Electronics</td>\n",
       "      <td>12.3</td>\n",
       "      <td>2024-02-19</td>\n",
       "      <td>37</td>\n",
       "      <td>0.34</td>\n",
       "    </tr>\n",
       "    <tr>\n",
       "      <th>2</th>\n",
       "      <td>CUST_6390</td>\n",
       "      <td>73</td>\n",
       "      <td>Male</td>\n",
       "      <td>Australia</td>\n",
       "      <td>83.28</td>\n",
       "      <td>6</td>\n",
       "      <td>203</td>\n",
       "      <td>0</td>\n",
       "      <td>Sports</td>\n",
       "      <td>NaN</td>\n",
       "      <td>2024-04-16</td>\n",
       "      <td>65</td>\n",
       "      <td>0.05</td>\n",
       "    </tr>\n",
       "    <tr>\n",
       "      <th>3</th>\n",
       "      <td>CUST_6191</td>\n",
       "      <td>30</td>\n",
       "      <td>Other</td>\n",
       "      <td>Japan</td>\n",
       "      <td>109.90</td>\n",
       "      <td>9</td>\n",
       "      <td>346</td>\n",
       "      <td>1</td>\n",
       "      <td>Electronics</td>\n",
       "      <td>42.9</td>\n",
       "      <td>2020-07-08</td>\n",
       "      <td>93</td>\n",
       "      <td>0.19</td>\n",
       "    </tr>\n",
       "    <tr>\n",
       "      <th>4</th>\n",
       "      <td>CUST_6734</td>\n",
       "      <td>29</td>\n",
       "      <td>Female</td>\n",
       "      <td>Canada</td>\n",
       "      <td>269.38</td>\n",
       "      <td>16</td>\n",
       "      <td>342</td>\n",
       "      <td>0</td>\n",
       "      <td>Fashion</td>\n",
       "      <td>5.3</td>\n",
       "      <td>2025-04-09</td>\n",
       "      <td>79</td>\n",
       "      <td>0.15</td>\n",
       "    </tr>\n",
       "    <tr>\n",
       "      <th>5</th>\n",
       "      <td>CUST_7265</td>\n",
       "      <td>54</td>\n",
       "      <td>Male</td>\n",
       "      <td>Canada</td>\n",
       "      <td>114.31</td>\n",
       "      <td>11</td>\n",
       "      <td>210</td>\n",
       "      <td>0</td>\n",
       "      <td>Beauty</td>\n",
       "      <td>56.5</td>\n",
       "      <td>2021-10-02</td>\n",
       "      <td>44</td>\n",
       "      <td>0.21</td>\n",
       "    </tr>\n",
       "    <tr>\n",
       "      <th>6</th>\n",
       "      <td>CUST_1466</td>\n",
       "      <td>27</td>\n",
       "      <td>Female</td>\n",
       "      <td>Canada</td>\n",
       "      <td>34.03</td>\n",
       "      <td>7</td>\n",
       "      <td>212</td>\n",
       "      <td>0</td>\n",
       "      <td>Electronics</td>\n",
       "      <td>0.2</td>\n",
       "      <td>2021-12-19</td>\n",
       "      <td>60</td>\n",
       "      <td>0.39</td>\n",
       "    </tr>\n",
       "    <tr>\n",
       "      <th>7</th>\n",
       "      <td>CUST_5426</td>\n",
       "      <td>77</td>\n",
       "      <td>Female</td>\n",
       "      <td>Brazil</td>\n",
       "      <td>171.25</td>\n",
       "      <td>9</td>\n",
       "      <td>20</td>\n",
       "      <td>0</td>\n",
       "      <td>Electronics</td>\n",
       "      <td>15.1</td>\n",
       "      <td>2021-02-09</td>\n",
       "      <td>29</td>\n",
       "      <td>0.24</td>\n",
       "    </tr>\n",
       "    <tr>\n",
       "      <th>8</th>\n",
       "      <td>CUST_6578</td>\n",
       "      <td>73</td>\n",
       "      <td>Female</td>\n",
       "      <td>Australia</td>\n",
       "      <td>116.79</td>\n",
       "      <td>10</td>\n",
       "      <td>87</td>\n",
       "      <td>0</td>\n",
       "      <td>Sports</td>\n",
       "      <td>14.7</td>\n",
       "      <td>2020-09-02</td>\n",
       "      <td>85</td>\n",
       "      <td>0.37</td>\n",
       "    </tr>\n",
       "    <tr>\n",
       "      <th>9</th>\n",
       "      <td>CUST_9322</td>\n",
       "      <td>26</td>\n",
       "      <td>Male</td>\n",
       "      <td>France</td>\n",
       "      <td>55.93</td>\n",
       "      <td>4</td>\n",
       "      <td>12</td>\n",
       "      <td>0</td>\n",
       "      <td>Fashion</td>\n",
       "      <td>68.8</td>\n",
       "      <td>2024-02-25</td>\n",
       "      <td>63</td>\n",
       "      <td>0.52</td>\n",
       "    </tr>\n",
       "  </tbody>\n",
       "</table>\n",
       "</div>"
      ],
      "text/plain": [
       "  customer_id  age  gender    country  avg_order_value  total_orders  \\\n",
       "0   CUST_8270   30  Female     Brazil           101.08             8   \n",
       "1   CUST_1860   53  Female        USA            90.39            10   \n",
       "2   CUST_6390   73    Male  Australia            83.28             6   \n",
       "3   CUST_6191   30   Other      Japan           109.90             9   \n",
       "4   CUST_6734   29  Female     Canada           269.38            16   \n",
       "5   CUST_7265   54    Male     Canada           114.31            11   \n",
       "6   CUST_1466   27  Female     Canada            34.03             7   \n",
       "7   CUST_5426   77  Female     Brazil           171.25             9   \n",
       "8   CUST_6578   73  Female  Australia           116.79            10   \n",
       "9   CUST_9322   26    Male     France            55.93             4   \n",
       "\n",
       "   last_purchase  is_fraudulent preferred_category  email_open_rate  \\\n",
       "0            176              1             Beauty             25.6   \n",
       "1             88              0        Electronics             12.3   \n",
       "2            203              0             Sports              NaN   \n",
       "3            346              1        Electronics             42.9   \n",
       "4            342              0            Fashion              5.3   \n",
       "5            210              0             Beauty             56.5   \n",
       "6            212              0        Electronics              0.2   \n",
       "7             20              0        Electronics             15.1   \n",
       "8             87              0             Sports             14.7   \n",
       "9             12              0            Fashion             68.8   \n",
       "\n",
       "  customer_since  loyalty_score  churn_risk  \n",
       "0     2024-06-05             50        0.20  \n",
       "1     2024-02-19             37        0.34  \n",
       "2     2024-04-16             65        0.05  \n",
       "3     2020-07-08             93        0.19  \n",
       "4     2025-04-09             79        0.15  \n",
       "5     2021-10-02             44        0.21  \n",
       "6     2021-12-19             60        0.39  \n",
       "7     2021-02-09             29        0.24  \n",
       "8     2020-09-02             85        0.37  \n",
       "9     2024-02-25             63        0.52  "
      ]
     },
     "execution_count": 10,
     "metadata": {},
     "output_type": "execute_result"
    }
   ],
   "source": [
    "df.head(10)"
   ]
  },
  {
   "cell_type": "code",
   "execution_count": 15,
   "id": "571afb03",
   "metadata": {
    "vscode": {
     "languageId": "markdown"
    }
   },
   "outputs": [
    {
     "data": {
      "text/plain": [
       "np.int64(0)"
      ]
     },
     "execution_count": 15,
     "metadata": {},
     "output_type": "execute_result"
    }
   ],
   "source": [
    "df.duplicated().sum()\n"
   ]
  },
  {
   "cell_type": "code",
   "execution_count": 16,
   "id": "eff40d53",
   "metadata": {
    "vscode": {
     "languageId": "markdown"
    }
   },
   "outputs": [
    {
     "name": "stdout",
     "output_type": "stream",
     "text": [
      "Number of duplicate rows: 0\n"
     ]
    }
   ],
   "source": [
    "num_duplicates = df.duplicated().sum()\n",
    "print(f\"Number of duplicate rows: {num_duplicates}\")\n"
   ]
  },
  {
   "cell_type": "code",
   "execution_count": 19,
   "id": "345a83c2",
   "metadata": {
    "vscode": {
     "languageId": "markdown"
    }
   },
   "outputs": [
    {
     "data": {
      "text/plain": [
       "customer_id\n",
       "CUST_5780    6\n",
       "CUST_4072    5\n",
       "CUST_4719    5\n",
       "CUST_8206    4\n",
       "CUST_5033    4\n",
       "            ..\n",
       "CUST_6472    1\n",
       "CUST_1707    1\n",
       "CUST_2804    1\n",
       "CUST_4713    1\n",
       "CUST_8465    1\n",
       "Name: count, Length: 3809, dtype: int64"
      ]
     },
     "execution_count": 19,
     "metadata": {},
     "output_type": "execute_result"
    }
   ],
   "source": [
    "df['customer_id'].value_counts()"
   ]
  },
  {
   "cell_type": "code",
   "execution_count": 20,
   "id": "c4f8f9f1",
   "metadata": {
    "vscode": {
     "languageId": "markdown"
    }
   },
   "outputs": [
    {
     "data": {
      "text/plain": [
       "gender\n",
       "Male      2278\n",
       "Female    2242\n",
       "Other      480\n",
       "Name: count, dtype: int64"
      ]
     },
     "execution_count": 20,
     "metadata": {},
     "output_type": "execute_result"
    }
   ],
   "source": [
    "df['gender'].value_counts()"
   ]
  },
  {
   "cell_type": "code",
   "execution_count": 21,
   "id": "63e9a118",
   "metadata": {
    "vscode": {
     "languageId": "markdown"
    }
   },
   "outputs": [
    {
     "data": {
      "text/plain": [
       "country\n",
       "Australia    518\n",
       "USA          517\n",
       "India        511\n",
       "Germany      509\n",
       "Brazil       504\n",
       "France       500\n",
       "China        497\n",
       "Canada       490\n",
       "UK           485\n",
       "Japan        469\n",
       "Name: count, dtype: int64"
      ]
     },
     "execution_count": 21,
     "metadata": {},
     "output_type": "execute_result"
    }
   ],
   "source": [
    "df['country'].value_counts()\n"
   ]
  },
  {
   "cell_type": "code",
   "execution_count": 22,
   "id": "d272b1a6",
   "metadata": {
    "vscode": {
     "languageId": "markdown"
    }
   },
   "outputs": [
    {
     "data": {
      "text/plain": [
       "preferred_category\n",
       "Beauty         1035\n",
       "Electronics    1021\n",
       "Home           1004\n",
       "Fashion         975\n",
       "Sports          965\n",
       "Name: count, dtype: int64"
      ]
     },
     "execution_count": 22,
     "metadata": {},
     "output_type": "execute_result"
    }
   ],
   "source": [
    "df['preferred_category'].value_counts()"
   ]
  },
  {
   "cell_type": "code",
   "execution_count": 23,
   "id": "2ad48d41",
   "metadata": {
    "vscode": {
     "languageId": "markdown"
    }
   },
   "outputs": [
    {
     "data": {
      "text/plain": [
       "is_fraudulent\n",
       "0    4871\n",
       "1     129\n",
       "Name: count, dtype: int64"
      ]
     },
     "execution_count": 23,
     "metadata": {},
     "output_type": "execute_result"
    }
   ],
   "source": [
    "df['is_fraudulent'].value_counts()"
   ]
  }
 ],
 "metadata": {
  "kernelspec": {
   "display_name": "Python 3.11 (fraudhunter)",
   "language": "python",
   "name": "fraudhunter"
  },
  "language_info": {
   "codemirror_mode": {
    "name": "ipython",
    "version": 3
   },
   "file_extension": ".py",
   "mimetype": "text/x-python",
   "name": "python",
   "nbconvert_exporter": "python",
   "pygments_lexer": "ipython3",
   "version": "3.11.13"
  }
 },
 "nbformat": 4,
 "nbformat_minor": 5
}
